{
 "cells": [
  {
   "cell_type": "markdown",
   "metadata": {},
   "source": [
    "# Construction of a simple multiplayer Perceptron with two INPUT and one OUTPUT (from SCRATCH)"
   ]
  },
  {
   "cell_type": "markdown",
   "metadata": {},
   "source": [
    "Written by - Abirlal Metya (14-02-2021)"
   ]
  },
  {
   "cell_type": "code",
   "execution_count": 49,
   "metadata": {},
   "outputs": [],
   "source": [
    "import numpy as np\n",
    "import matplotlib.pyplot as plt"
   ]
  },
  {
   "cell_type": "markdown",
   "metadata": {},
   "source": [
    "### Activation"
   ]
  },
  {
   "cell_type": "code",
   "execution_count": 50,
   "metadata": {},
   "outputs": [],
   "source": [
    "def sigmoid(x):\n",
    "    return 1 / (1 + np.exp(-x))"
   ]
  },
  {
   "cell_type": "code",
   "execution_count": 51,
   "metadata": {},
   "outputs": [],
   "source": [
    "### This is to generate a complex relation between x1 and x2 ###\n",
    "\n",
    "### We will try to predict this complex relationship using NN ####\n",
    "\n",
    "def compu(data):\n",
    "    #return (data[:,0]*data[:,1])+((data[:,0]**2)*(data[:,1]**2))\n",
    "    return (data[:,0]**2)*(data[:,1]**2)"
   ]
  },
  {
   "cell_type": "markdown",
   "metadata": {},
   "source": [
    "#### Feed same input"
   ]
  },
  {
   "cell_type": "code",
   "execution_count": 52,
   "metadata": {},
   "outputs": [],
   "source": [
    "size = 500\n",
    "radn = np.random.randint(100,700,size=size)/1000\n",
    "\n",
    "input_set = radn.reshape(250,2)\n",
    "#labels    = (input_set[:,0]*input_set[:,1])\n",
    "labels    = compu(input_set)\n",
    "\n",
    "labels    = labels.reshape(labels.shape[0],1)\n",
    "y         = labels.copy()\n",
    "\n",
    "X = input_set.copy()\n",
    "X = X.T\n",
    "\n",
    "y = y.T"
   ]
  },
  {
   "cell_type": "markdown",
   "metadata": {},
   "source": [
    "#### Initialize the weights and biases"
   ]
  },
  {
   "cell_type": "code",
   "execution_count": 53,
   "metadata": {},
   "outputs": [],
   "source": [
    "# defining the model architecture\n",
    "inputLayer_neurons = X.shape[0]  # number of features in data set\n",
    "hiddenLayer_neurons = 3  # number of hidden layers neurons\n",
    "outputLayer_neurons = 1  # number of neurons at output layer\n",
    "\n",
    "# initializing weight\n",
    "weights_input_hidden = np.random.uniform(size=(inputLayer_neurons, hiddenLayer_neurons))\n",
    "weights_hidden_output = np.random.uniform(\n",
    "    size=(hiddenLayer_neurons, outputLayer_neurons)\n",
    ")\n",
    "\n",
    "# defining the parameters\n",
    "lr = 0.2\n",
    "epochs = 10000"
   ]
  },
  {
   "cell_type": "markdown",
   "metadata": {},
   "source": [
    "#### Construction of the model"
   ]
  },
  {
   "cell_type": "code",
   "execution_count": 54,
   "metadata": {},
   "outputs": [
    {
     "name": "stdout",
     "output_type": "stream",
     "text": [
      "Error at epoch 0 is 0.23369\n",
      "Error at epoch 100 is 0.00175\n",
      "Error at epoch 200 is 0.00071\n",
      "Error at epoch 300 is 0.00039\n",
      "Error at epoch 400 is 0.00030\n",
      "Error at epoch 500 is 0.00024\n",
      "Error at epoch 600 is 0.00020\n",
      "Error at epoch 700 is 0.00017\n",
      "Error at epoch 800 is 0.00015\n",
      "Error at epoch 900 is 0.00013\n",
      "Error at epoch 1000 is 0.00012\n",
      "Error at epoch 1100 is 0.00011\n",
      "Error at epoch 1200 is 0.00010\n",
      "Error at epoch 1300 is 0.00009\n",
      "Error at epoch 1400 is 0.00009\n",
      "Error at epoch 1500 is 0.00008\n",
      "Error at epoch 1600 is 0.00007\n",
      "Error at epoch 1700 is 0.00007\n",
      "Error at epoch 1800 is 0.00007\n",
      "Error at epoch 1900 is 0.00006\n",
      "Error at epoch 2000 is 0.00006\n",
      "Error at epoch 2100 is 0.00006\n",
      "Error at epoch 2200 is 0.00005\n",
      "Error at epoch 2300 is 0.00005\n",
      "Error at epoch 2400 is 0.00005\n",
      "Error at epoch 2500 is 0.00005\n",
      "Error at epoch 2600 is 0.00005\n",
      "Error at epoch 2700 is 0.00004\n",
      "Error at epoch 2800 is 0.00004\n",
      "Error at epoch 2900 is 0.00004\n",
      "Error at epoch 3000 is 0.00004\n",
      "Error at epoch 3100 is 0.00004\n",
      "Error at epoch 3200 is 0.00004\n",
      "Error at epoch 3300 is 0.00003\n",
      "Error at epoch 3400 is 0.00003\n",
      "Error at epoch 3500 is 0.00003\n",
      "Error at epoch 3600 is 0.00003\n",
      "Error at epoch 3700 is 0.00003\n",
      "Error at epoch 3800 is 0.00003\n",
      "Error at epoch 3900 is 0.00003\n",
      "Error at epoch 4000 is 0.00003\n",
      "Error at epoch 4100 is 0.00003\n",
      "Error at epoch 4200 is 0.00003\n",
      "Error at epoch 4300 is 0.00002\n",
      "Error at epoch 4400 is 0.00002\n",
      "Error at epoch 4500 is 0.00002\n",
      "Error at epoch 4600 is 0.00002\n",
      "Error at epoch 4700 is 0.00002\n",
      "Error at epoch 4800 is 0.00002\n",
      "Error at epoch 4900 is 0.00002\n",
      "Error at epoch 5000 is 0.00002\n",
      "Error at epoch 5100 is 0.00002\n",
      "Error at epoch 5200 is 0.00002\n",
      "Error at epoch 5300 is 0.00002\n",
      "Error at epoch 5400 is 0.00002\n",
      "Error at epoch 5500 is 0.00002\n",
      "Error at epoch 5600 is 0.00002\n",
      "Error at epoch 5700 is 0.00002\n",
      "Error at epoch 5800 is 0.00002\n",
      "Error at epoch 5900 is 0.00002\n",
      "Error at epoch 6000 is 0.00001\n",
      "Error at epoch 6100 is 0.00001\n",
      "Error at epoch 6200 is 0.00001\n",
      "Error at epoch 6300 is 0.00001\n",
      "Error at epoch 6400 is 0.00001\n",
      "Error at epoch 6500 is 0.00001\n",
      "Error at epoch 6600 is 0.00001\n",
      "Error at epoch 6700 is 0.00001\n",
      "Error at epoch 6800 is 0.00001\n",
      "Error at epoch 6900 is 0.00001\n",
      "Error at epoch 7000 is 0.00001\n",
      "Error at epoch 7100 is 0.00001\n",
      "Error at epoch 7200 is 0.00001\n",
      "Error at epoch 7300 is 0.00001\n",
      "Error at epoch 7400 is 0.00001\n",
      "Error at epoch 7500 is 0.00001\n",
      "Error at epoch 7600 is 0.00001\n",
      "Error at epoch 7700 is 0.00001\n",
      "Error at epoch 7800 is 0.00001\n",
      "Error at epoch 7900 is 0.00001\n",
      "Error at epoch 8000 is 0.00001\n",
      "Error at epoch 8100 is 0.00001\n",
      "Error at epoch 8200 is 0.00001\n",
      "Error at epoch 8300 is 0.00001\n",
      "Error at epoch 8400 is 0.00001\n",
      "Error at epoch 8500 is 0.00001\n",
      "Error at epoch 8600 is 0.00001\n",
      "Error at epoch 8700 is 0.00001\n",
      "Error at epoch 8800 is 0.00001\n",
      "Error at epoch 8900 is 0.00001\n",
      "Error at epoch 9000 is 0.00001\n",
      "Error at epoch 9100 is 0.00001\n",
      "Error at epoch 9200 is 0.00001\n",
      "Error at epoch 9300 is 0.00001\n",
      "Error at epoch 9400 is 0.00001\n",
      "Error at epoch 9500 is 0.00001\n",
      "Error at epoch 9600 is 0.00001\n",
      "Error at epoch 9700 is 0.00001\n",
      "Error at epoch 9800 is 0.00001\n",
      "Error at epoch 9900 is 0.00001\n"
     ]
    }
   ],
   "source": [
    "losses = []\n",
    "for epoch in range(epochs):\n",
    "    ## Forward Propogation\n",
    "\n",
    "    # calculating hidden layer activations\n",
    "    hiddenLayer_linearTransform = np.dot(weights_input_hidden.T, X)\n",
    "    hiddenLayer_activations     = sigmoid(hiddenLayer_linearTransform)\n",
    "\n",
    "    # calculating the output\n",
    "    outputLayer_linearTransform = np.dot(\n",
    "        weights_hidden_output.T, hiddenLayer_activations\n",
    "    )\n",
    "    output = sigmoid(outputLayer_linearTransform)\n",
    "    #print(output.shape)\n",
    "\n",
    "    ## Backward Propagation\n",
    "\n",
    "    # calculating error\n",
    "    error = np.square(y - output) / 2\n",
    "\n",
    "    # calculating rate of change of error w.r.t weight between hidden and output layer\n",
    "    error_wrt_output = -(y - output)\n",
    "    output_wrt_outputLayer_LinearTransform = np.multiply(output, (1 - output))\n",
    "    outputLayer_LinearTransform_wrt_weights_hidden_output = hiddenLayer_activations\n",
    "\n",
    "    error_wrt_weights_hidden_output = np.dot(\n",
    "        outputLayer_LinearTransform_wrt_weights_hidden_output,\n",
    "        (error_wrt_output * output_wrt_outputLayer_LinearTransform).T,\n",
    "    )\n",
    "\n",
    "    # calculating rate of change of error w.r.t weights between input and hidden layer\n",
    "    outputLayer_LinearTransform_wrt_hiddenLayer_activations = weights_hidden_output\n",
    "    hiddenLayer_activations_wrt_hiddenLayer_linearTransform = np.multiply(\n",
    "        hiddenLayer_activations, (1 - hiddenLayer_activations)\n",
    "    )\n",
    "    hiddenLayer_linearTransform_wrt_weights_input_hidden = X\n",
    "    error_wrt_weights_input_hidden = np.dot(\n",
    "        hiddenLayer_linearTransform_wrt_weights_input_hidden,\n",
    "        (\n",
    "            hiddenLayer_activations_wrt_hiddenLayer_linearTransform\n",
    "            * np.dot(\n",
    "                outputLayer_LinearTransform_wrt_hiddenLayer_activations,\n",
    "                (output_wrt_outputLayer_LinearTransform * error_wrt_output),\n",
    "            )\n",
    "        ).T,\n",
    "    )\n",
    "\n",
    "    # updating the weights\n",
    "    weights_hidden_output = weights_hidden_output - lr * error_wrt_weights_hidden_output\n",
    "    weights_input_hidden = weights_input_hidden - lr * error_wrt_weights_input_hidden\n",
    "\n",
    "    # print error at every 100th epoch\n",
    "    epoch_loss = np.average(error)\n",
    "    if epoch % 100 == 0:\n",
    "        print(f\"Error at epoch {epoch} is {epoch_loss:.5f}\")\n",
    "\n",
    "    # appending the error of each epoch\n",
    "    losses.append(epoch_loss)"
   ]
  },
  {
   "cell_type": "code",
   "execution_count": 55,
   "metadata": {},
   "outputs": [],
   "source": [
    "# calculating hidden layer activations\n",
    "size = 400\n",
    "radn = np.random.randint(100,700,size=size)/1000\n",
    "\n",
    "pred = radn.reshape(200,2).T\n",
    "pred_ = pred.T\n",
    "\n",
    "hiddenLayer_linearTransform = np.dot(weights_input_hidden.T, pred)\n",
    "hiddenLayer_activations = sigmoid(hiddenLayer_linearTransform)\n",
    "\n",
    "# calculating the output\n",
    "outputLayer_linearTransform = np.dot(\n",
    "    weights_hidden_output.T, hiddenLayer_activations\n",
    ")\n",
    "output = sigmoid(outputLayer_linearTransform)"
   ]
  },
  {
   "cell_type": "code",
   "execution_count": 56,
   "metadata": {},
   "outputs": [
    {
     "data": {
      "text/plain": [
       "<matplotlib.legend.Legend at 0x1f945a42308>"
      ]
     },
     "execution_count": 56,
     "metadata": {},
     "output_type": "execute_result"
    },
    {
     "data": {
      "image/png": "[encoded data removed]",
      "text/plain": [
       "<Figure size 432x288 with 1 Axes>"
      ]
     },
     "metadata": {
      "needs_background": "light"
     },
     "output_type": "display_data"
    }
   ],
   "source": [
    "plt.plot(output.T,compu(pred_),'.',label=str(np.corrcoef(output,compu(pred_))[0,1]**2))\n",
    "#plt.ylim(0,0.02)\n",
    "plt.legend()"
   ]
  },
  {
   "cell_type": "markdown",
   "metadata": {},
   "source": [
    "#### contd. to presentation"
   ]
  },
  {
   "cell_type": "code",
   "execution_count": null,
   "metadata": {},
   "outputs": [],
   "source": []
  }
 ],
 "metadata": {
  "kernelspec": {
   "display_name": "Python 3",
   "language": "python",
   "name": "python3"
  },
  "language_info": {
   "codemirror_mode": {
    "name": "ipython",
    "version": 3
   },
   "file_extension": ".py",
   "mimetype": "text/x-python",
   "name": "python",
   "nbconvert_exporter": "python",
   "pygments_lexer": "ipython3",
   "version": "3.8.3"
  }
 },
 "nbformat": 4,
 "nbformat_minor": 4
}
